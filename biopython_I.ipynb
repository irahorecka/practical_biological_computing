{
 "cells": [
  {
   "cell_type": "markdown",
   "metadata": {},
   "source": [
    "# Biopython I\n",
    "\n",
    "From the [Biopython](https://biopython.org \"Biopython's Main Page\"):\n",
    "\n",
    "Biopython is a set of freely available tools for biological computation written in Python by an international team of developers. It is a distributed collaborative effort to develop Python libraries and applications which address the needs of current and future work in bioinformatics. The source code is made available under the Biopython License, which is extremely liberal and compatible with almost every license in the world.\n"
   ]
  },
  {
   "cell_type": "markdown",
   "metadata": {},
   "source": [
    "---"
   ]
  },
  {
   "cell_type": "markdown",
   "metadata": {},
   "source": [
    "## Biopython - basics\n",
    "\n",
    "### Introduction\n",
    "From the [biopython website](https://biopython.org \"Biopython's Main Page\") their goal is to “make it as easy as possible to use Python for bioinformatics by creating high-quality, reusable modules and scripts.” These modules use the [biopython tutorial](http://biopython.org/DIST/docs/tutorial/Tutorial.html \"Biopython Tutorial\") as a template for what you will learn here. Here is a list of some of the most common data formats in computational biology that are supported by biopython."
   ]
  },
  {
   "cell_type": "markdown",
   "metadata": {},
   "source": [
    "---"
   ]
  },
  {
   "cell_type": "markdown",
   "metadata": {},
   "source": [
    "| Uses  | Notes |\n",
    "| --- | --- |\n",
    "| Blast | finds regions of local similarity between sequences |\n",
    "| ClutalW | multiple sequence alignment program |\n",
    "| GenBank | NCBI sequence database |\n",
    "| PumMed and Medline | Document database |\n",
    "| ExPASy | SIB resource protal (Enzyme and Prosite) |\n",
    "| SCOP | Structural Classification of Proteins (e.g. 'dom', 'lin') |\n",
    "| UniGene | computationally identifies transcripts from the same locus |\n",
    "| SwissProt | annotated and non-redundant protein sequence database |\n"
   ]
  },
  {
   "cell_type": "code",
   "execution_count": null,
   "metadata": {},
   "outputs": [],
   "source": []
  }
 ],
 "metadata": {
  "kernelspec": {
   "display_name": "Python 3",
   "language": "python",
   "name": "python3"
  },
  "language_info": {
   "codemirror_mode": {
    "name": "ipython",
    "version": 3
   },
   "file_extension": ".py",
   "mimetype": "text/x-python",
   "name": "python",
   "nbconvert_exporter": "python",
   "pygments_lexer": "ipython3",
   "version": "3.7.4"
  }
 },
 "nbformat": 4,
 "nbformat_minor": 4
}
